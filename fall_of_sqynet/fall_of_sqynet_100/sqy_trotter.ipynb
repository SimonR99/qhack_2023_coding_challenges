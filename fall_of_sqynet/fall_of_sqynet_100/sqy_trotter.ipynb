{
 "cells": [
  {
   "cell_type": "markdown",
   "id": "d9998327",
   "metadata": {},
   "source": [
    "## Challenge code\n",
    " \n",
    " You must complete the `trotterize` function to build the Trotterization of the Hamiltonian given above. **You may not use** `qml.ApproxTimeEvolution` or `qml.QubitUnitary`, but feel free to check your answer using this built-in PennyLane function!\n",
    " \n",
    " ### Input\n",
    " \n",
    " As input to this problem, you are given:\n",
    " \n",
    " - `alpha` (`float`): The coefficient $\\alpha$ of the $X\\otimes X$ term in the Hamiltonian.\n",
    " - `beta` (`float`): The coefficient $\\beta$ of the $Z\\otimes Z$ term in the Hamiltonian.\n",
    " - `time` (`float`): The period $t$ over which the system evolves under the action of the Hamiltonian.\n",
    " - `depth` (`int`): The Trotterization depth $n$ as explained above. \n",
    "  \n",
    " ### Output\n",
    " \n",
    " This code will output a `list(float)` (list of real numbers) corresponding to the probabilities of measuring $\\lvert 00\\rangle,$ $\\lvert 01\\rangle,$ $\\lvert 10\\rangle,$ and $\\lvert 11\\rangle$ (in that order) of the Trotterization circuit that you implement in PennyLane. The initial state of the circuit is $\\lvert 00\\rangle$ and all measurements are performed in the computational basis.\n",
    " \n",
    " If your solution matches the correct one within the given tolerance specified in `check` (in this case, it's a relative tolerance of `1e-4`), the output will be `\"Correct!\"` Otherwise, you will receive a `\"Wrong answer\"` prompt.\n",
    " \n",
    " Good luck!#| ### Imports\n",
    " The cell below specifies the libraries you should use in this challenge. Run the cell to import the libraries. ***Do not modify the cell.***"
   ]
  },
  {
   "cell_type": "code",
   "execution_count": 55,
   "id": "df01be0b",
   "metadata": {},
   "outputs": [],
   "source": [
    "import json\n",
    "import pennylane as qml\n",
    "from pennylane import numpy as np"
   ]
  },
  {
   "cell_type": "markdown",
   "id": "661e56b0",
   "metadata": {},
   "source": [
    "### Code\n",
    " Complete the code below. Note that during QHack, some sections were not editable. We've marked those sections accordingly here, but you can still edit them if you wish."
   ]
  },
  {
   "cell_type": "code",
   "execution_count": 56,
   "id": "9bda6e9b",
   "metadata": {},
   "outputs": [],
   "source": [
    "# Uneditable section #\n",
    "dev = qml.device('default.qubit', wires = 2)\n",
    "\n",
    "@qml.qnode(dev)\n",
    "def trotterize(alpha, beta, time, depth):\n",
    "    \"\"\"This quantum circuit implements the Trotterization of a Hamiltonian given by a linear combination\n",
    "    of tensor products of X and Z Pauli gates.\n",
    "\n",
    "    Args:\n",
    "        alpha (float): The coefficient of the XX term in the Hamiltonian, as in the statement of the problem.\n",
    "        beta (float): The coefficient of the YY term in the Hamiltonian, as in the statement of the problem.\n",
    "        time (float): Time interval during which the quantum state evolves under the interactions specified by the Hamiltonian.\n",
    "        depth (int): The Trotterization depth.\n",
    "\n",
    "    Returns:\n",
    "        (numpy.array): The probabilities of each measuring each computational basis state.\n",
    "    \"\"\"\n",
    "\n",
    "    # End of uneditable section #\n",
    "\n",
    "    # Put your code here #\n",
    "\n",
    "    for i in range(depth):\n",
    "        qml.IsingXX(2*alpha*time/depth, wires=[0, 1])\n",
    "        qml.IsingZZ(2*beta*time/depth, wires=[0, 1])\n",
    "\n",
    "\n",
    "    # Return the probabilities\n",
    "    return qml.probs()"
   ]
  },
  {
   "cell_type": "markdown",
   "id": "7deb9f8f",
   "metadata": {},
   "source": [
    "These functions are responsible for testing the solution. You will need to run the cell below. ***Do not modify the cell.***"
   ]
  },
  {
   "cell_type": "code",
   "execution_count": 57,
   "id": "6076b76e",
   "metadata": {},
   "outputs": [],
   "source": [
    "def run(test_case_input: str) -> str:\n",
    "    dev = qml.device(\"default.qubit\", wires=2)\n",
    "    ins = json.loads(test_case_input)\n",
    "    output = list(trotterize(*ins).numpy())\n",
    "\n",
    "    return str(output)\n",
    "\n",
    "def check(solution_output: str, expected_output: str) -> None:\n",
    "    solution_output = json.loads(solution_output)\n",
    "    expected_output = json.loads(expected_output)\n",
    "    assert np.allclose(\n",
    "        solution_output, expected_output, rtol=1e-4\n",
    "    ), \"Your circuit does not give the correct probabilities.\"\n",
    "\n",
    "    tape = trotterize.qtape\n",
    "\n",
    "    names = [op.name for op in tape.operations]\n",
    "    \n",
    "    assert names.count('ApproxTimeEvolution') == 0, \"Your circuit is using the built-in PennyLane Trotterization\"\n",
    "    assert names.count('QubitUnitary') == 0, \"Can't use custom-built gates!\""
   ]
  },
  {
   "cell_type": "markdown",
   "id": "81a8c92c",
   "metadata": {},
   "source": [
    "### Test cases\n",
    " Running the cell below will load the test cases. ***Do not modify the cell***.\n",
    " - input: [0.5,0.8,0.2,1]\n",
    " \t+ expected output: [0.99003329, 0, 0, 0.00996671]\n",
    " - input: [0.9,1.0,0.4,2]\n",
    " \t+ expected output: [0.87590286, 0, 0, 0.12409714]\n",
    " - input: [1.2,1.4,0.8,3]\n",
    " \t+ expected output: [0.32892517, 0, 0, 0.67107483]\n",
    " - input: [0.5,0.5,0.7,2]\n",
    " \t+ expected output: [0.88242109, 0, 0, 0.11757891]"
   ]
  },
  {
   "cell_type": "code",
   "execution_count": 58,
   "id": "2e0f40cb",
   "metadata": {},
   "outputs": [],
   "source": [
    "test_cases = [['[0.5,0.8,0.2,1]', '[0.99003329, 0, 0, 0.00996671]'], ['[0.9,1.0,0.4,2]', '[0.87590286, 0, 0, 0.12409714]'], ['[1.2,1.4,0.8,3]', '[0.32892517, 0, 0, 0.67107483]'], ['[0.5,0.5,0.7,2]', '[0.88242109, 0, 0, 0.11757891]']]"
   ]
  },
  {
   "cell_type": "markdown",
   "id": "cab87cc6",
   "metadata": {},
   "source": [
    "### Solution testing\n",
    " Once you have run every cell above, including the one with your code, the cell below will test your solution. Run the cell. If you are correct for all of the test cases, it means your solutions is correct. Otherwise, you need to double check your work. ***Do not modify the cell below.***"
   ]
  },
  {
   "cell_type": "code",
   "execution_count": 59,
   "id": "130271b3",
   "metadata": {},
   "outputs": [
    {
     "name": "stdout",
     "output_type": "stream",
     "text": [
      "Running test case 0 with input '[0.5,0.8,0.2,1]'...\n",
      "Correct!\n",
      "Running test case 1 with input '[0.9,1.0,0.4,2]'...\n",
      "Correct!\n",
      "Running test case 2 with input '[1.2,1.4,0.8,3]'...\n",
      "Correct!\n",
      "Running test case 3 with input '[0.5,0.5,0.7,2]'...\n",
      "Correct!\n"
     ]
    }
   ],
   "source": [
    "for i, (input_, expected_output) in enumerate(test_cases):\n",
    "    print(f\"Running test case {i} with input '{input_}'...\")\n",
    "\n",
    "    try:\n",
    "        output = run(input_)\n",
    "\n",
    "    except Exception as exc:\n",
    "        print(f\"Runtime Error. {exc}\")\n",
    "\n",
    "    else:\n",
    "        if message := check(output, expected_output):\n",
    "            print(f\"Wrong Answer. Have: '{output}'. Want: '{expected_output}'.\")\n",
    "\n",
    "        else:\n",
    "            print(\"Correct!\")"
   ]
  }
 ],
 "metadata": {
  "kernelspec": {
   "display_name": "quantum",
   "language": "python",
   "name": "python3"
  },
  "language_info": {
   "codemirror_mode": {
    "name": "ipython",
    "version": 3
   },
   "file_extension": ".py",
   "mimetype": "text/x-python",
   "name": "python",
   "nbconvert_exporter": "python",
   "pygments_lexer": "ipython3",
   "version": "3.11.5"
  }
 },
 "nbformat": 4,
 "nbformat_minor": 5
}
