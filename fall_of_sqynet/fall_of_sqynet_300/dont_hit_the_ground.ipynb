{
 "cells": [
  {
   "cell_type": "markdown",
   "id": "24357831",
   "metadata": {},
   "source": [
    "## Challenge code\n",
    " \n",
    " You must complete the `half_life` function to calculate the time $T$ at which the probability of measuring $\\lvert 1 \\rangle$ becomes 1/4.\n",
    " \n",
    " ### Input\n",
    " \n",
    " As input to this problem, you are given:\n",
    " \n",
    " - `gamma` (`float`): The zero-temperature photon loss rate.\n",
    " - `p` (`float`): The de-excitation probability due to temperature effects\n",
    "  \n",
    " ### Output\n",
    " \n",
    " This code will output a `float` equal to your estimate of the relaxation half-life. Note that you may require the step and iterations of your circuit to actually reach the half-life.\n",
    " \n",
    " If your solution matches the correct one within the given tolerance specified in `check` (in this case it's an absolute tolerance of `0.2`), the output will be `\"Correct!\"` Otherwise, you will receive a `\"Wrong answer\"` prompt.\n",
    " \n",
    " Good luck!\n",
    " ### Imports\n",
    " The cell below specifies the libraries you should use in this challenge. Run the cell to import the libraries. ***Do not modify the cell.***"
   ]
  },
  {
   "cell_type": "code",
   "execution_count": 72,
   "id": "7ec1baf7",
   "metadata": {},
   "outputs": [],
   "source": [
    "import json\n",
    "import pennylane as qml\n",
    "from pennylane import numpy as np"
   ]
  },
  {
   "cell_type": "markdown",
   "id": "ae5766a9",
   "metadata": {},
   "source": [
    "### Code\n",
    " Complete the code below. Note that during QHack, some sections were not editable. We've marked those sections accordingly here, but you can still edit them if you wish."
   ]
  },
  {
   "cell_type": "code",
   "execution_count": 87,
   "id": "cbd23063",
   "metadata": {},
   "outputs": [
    {
     "data": {
      "text/plain": [
       "5.390625"
      ]
     },
     "execution_count": 87,
     "metadata": {},
     "output_type": "execute_result"
    }
   ],
   "source": [
    "# Uneditable section #\n",
    "def half_life(gamma, p):\n",
    "    \"\"\"Calculates the relaxation half-life of a quantum system that exchanges energy with its environment.\n",
    "    This process is modeled via Generalized Amplitude Damping.\n",
    "\n",
    "    Args:\n",
    "        gamma (float): \n",
    "            The probability per unit time of the system losing a quantum of energy\n",
    "            to the environment.\n",
    "        p (float): The de-excitation probability due to environmental effect\n",
    "\n",
    "    Returns:\n",
    "        (float): The relaxation haf-life of the system, as explained in the problem statement.\n",
    "    \"\"\"\n",
    "\n",
    "    num_wires = 1\n",
    "\n",
    "    dev = qml.device(\"default.mixed\", wires=num_wires)\n",
    "\n",
    "    # End of uneditable section #\n",
    "\n",
    "\n",
    "    # Feel free to write helper functions or global variables here\n",
    "\n",
    "    @qml.qnode(dev)\n",
    "    def noise(\n",
    "        gamma, N, t  # add optional parameters, delete if you don't need any\n",
    "    ):\n",
    "        \"\"\"Implement the sequence of Generalized Amplitude Damping channels in this QNode\n",
    "        You may pass instead of return if you solved this problem analytically, it's possible!\n",
    "\n",
    "        Args:\n",
    "            gamma (float): The probability per unit time of the system losing a quantum of energy\n",
    "            to the environment.\n",
    "        \n",
    "        Returns:\n",
    "            (float): The relaxation half-life.\n",
    "        \"\"\"\n",
    "        # Don't forget to initialize the state\n",
    "        # Put your code here #\n",
    "        qml.Hadamard(0)\n",
    "        for i in range(N):\n",
    "            qml.GeneralizedAmplitudeDamping(gamma*(t/N), p, wires=0)\n",
    "        # Return something or pass if you solved this analytically!\n",
    "        return qml.probs(wires=0)\n",
    "\n",
    "    # Write any subroutines you may need to find the relaxation time here\n",
    "    # Measure time \n",
    "    increment = 3\n",
    "    time = 0\n",
    "    result_prob = noise(gamma, 100, time)[1]\n",
    "    while result_prob > 0.25:\n",
    "        result_prob = noise(gamma, 100, time + increment)[1]\n",
    "        if result_prob < 0.249:\n",
    "            increment /=2\n",
    "            result_prob = noise(gamma, 100, time)[1]\n",
    "        else:\n",
    "            time += increment\n",
    "    return time\n",
    "\n",
    "    # Return the relaxation half-life\n",
    "half_life(0.15,0.95)"
   ]
  },
  {
   "cell_type": "markdown",
   "id": "30c2e930",
   "metadata": {},
   "source": [
    "These functions are responsible for testing the solution. You will need to run the cell below. ***Do not modify the cell.***"
   ]
  },
  {
   "cell_type": "code",
   "execution_count": 74,
   "id": "d5d138c3",
   "metadata": {},
   "outputs": [],
   "source": [
    "def run(test_case_input: str) -> str:\n",
    "\n",
    "    ins = json.loads(test_case_input)\n",
    "    output = half_life(*ins)\n",
    "\n",
    "    return str(output)\n",
    "\n",
    "def check(solution_output: str, expected_output: str) -> None:\n",
    "    solution_output = json.loads(solution_output)\n",
    "    expected_output = json.loads(expected_output)\n",
    "    assert np.allclose(\n",
    "        solution_output, expected_output, atol=2e-1\n",
    "    ), \"The relaxation half-life is not quite right.\""
   ]
  },
  {
   "cell_type": "markdown",
   "id": "3c56f1aa",
   "metadata": {},
   "source": [
    "### Test cases\n",
    " Running the cell below will load the test cases. ***Do not modify the cell***.\n",
    " - input: [0.1,0.92]\n",
    " \t+ expected output: 9.05\n",
    " - input: [0.2,0.83]\n",
    " \t+ expected output: 7.09\n",
    " - input: [0.15,0.95]\n",
    " \t+ expected output: 5.41\n",
    " - input: [0.08,0.87]\n",
    " \t+ expected output: 14.08"
   ]
  },
  {
   "cell_type": "code",
   "execution_count": 75,
   "id": "4f38c9a3",
   "metadata": {},
   "outputs": [],
   "source": [
    "test_cases = [['[0.1,0.92]', '9.05'], ['[0.2,0.83]', '7.09'], ['[0.15,0.95]', '5.41'], ['[0.08,0.87]', '14.08']]"
   ]
  },
  {
   "cell_type": "markdown",
   "id": "b6e037c0",
   "metadata": {},
   "source": [
    "### Solution testing\n",
    " Once you have run every cell above, including the one with your code, the cell below will test your solution. Run the cell. If you are correct for all of the test cases, it means your solutions is correct. Otherwise, you need to double check your work. ***Do not modify the cell below.***"
   ]
  },
  {
   "cell_type": "code",
   "execution_count": 88,
   "id": "a612b005",
   "metadata": {},
   "outputs": [
    {
     "name": "stdout",
     "output_type": "stream",
     "text": [
      "Running test case 0 with input '[0.1,0.92]'...\n",
      "Correct!\n",
      "Running test case 1 with input '[0.2,0.83]'...\n",
      "Correct!\n",
      "Running test case 2 with input '[0.15,0.95]'...\n",
      "Correct!\n",
      "Running test case 3 with input '[0.08,0.87]'...\n",
      "Correct!\n"
     ]
    }
   ],
   "source": [
    "for i, (input_, expected_output) in enumerate(test_cases):\n",
    "    print(f\"Running test case {i} with input '{input_}'...\")\n",
    "\n",
    "    try:\n",
    "        output = run(input_)\n",
    "\n",
    "    except Exception as exc:\n",
    "        print(f\"Runtime Error. {exc}\")\n",
    "\n",
    "    else:\n",
    "        if message := check(output, expected_output):\n",
    "            print(f\"Wrong Answer. Have: '{output}'. Want: '{expected_output}'.\")\n",
    "\n",
    "        else:\n",
    "            print(\"Correct!\")"
   ]
  }
 ],
 "metadata": {
  "kernelspec": {
   "display_name": "quantum",
   "language": "python",
   "name": "python3"
  },
  "language_info": {
   "codemirror_mode": {
    "name": "ipython",
    "version": 3
   },
   "file_extension": ".py",
   "mimetype": "text/x-python",
   "name": "python",
   "nbconvert_exporter": "python",
   "pygments_lexer": "ipython3",
   "version": "3.11.5"
  }
 },
 "nbformat": 4,
 "nbformat_minor": 5
}
