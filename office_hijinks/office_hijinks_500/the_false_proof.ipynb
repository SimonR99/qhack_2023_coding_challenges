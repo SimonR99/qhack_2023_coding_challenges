{
 "cells": [
  {
   "cell_type": "markdown",
   "id": "9d5876b4",
   "metadata": {},
   "source": [
    "## Challenge code\n",
    " \n",
    " On one hand you are asked to complete `circuit` (you only need to apply gates).\n",
    " On the other hand you must complete `process_output`, which will take the output of `circuit` (a vector of dimension two where each term can take the value 0 or 1) and will return 2 if $U = RY(2\\pi/3)$ or 4 if $U = RY(4\\pi/3).$\n",
    " \n",
    " \n",
    " ### Output\n",
    " \n",
    " The circuit function will receive the gate $U$ that you are asked to determine. To judge whether your circuit works as expected, we will randomly send 5000 different examples and check that they always classified correctly. Therefore, in this question there are no public or private test cases. They are randomly generated.\n",
    " Good luck!\n",
    " ### Imports\n",
    " The cell below specifies the libraries you should use in this challenge. Run the cell to import the libraries. ***Do not modify the cell.***"
   ]
  },
  {
   "cell_type": "code",
   "execution_count": 42,
   "id": "deccd69a",
   "metadata": {},
   "outputs": [],
   "source": [
    "import json\n",
    "import pennylane as qml\n",
    "from pennylane import numpy as np"
   ]
  },
  {
   "cell_type": "markdown",
   "id": "06966f63",
   "metadata": {},
   "source": [
    "### Code\n",
    " Complete the code below. Note that during QHack, some sections were not editable. We've marked those sections accordingly here, but you can still edit them if you wish."
   ]
  },
  {
   "cell_type": "code",
   "execution_count": 43,
   "id": "c4bca776",
   "metadata": {},
   "outputs": [],
   "source": [
    "# Uneditable section #\n",
    "dev = qml.device(\"default.qubit\", wires=2, shots=1)\n",
    "dev.operations.add(\"op\")\n",
    "dev.operations.add(\"C(op)\")\n",
    "# End of uneditable section #\n",
    "\n",
    "@qml.qnode(dev)\n",
    "def circuit(U):\n",
    "    \"\"\"This will be the circuit you will use to determine which of the two angles we have.\n",
    "    Remember that only a single shot will be executed.\n",
    "\n",
    "    Args:\n",
    "        U (qml.ops): It is the gate to discriminate between  RY(2pi/3) or RY(4pi/3).\n",
    "\n",
    "    Returns:\n",
    "        (numpy.tensor): Vector of two elements representing the output measured in each of the qubits.\n",
    "    \"\"\"\n",
    "    # Put your code here #\n",
    "    # to use U,  call 'U(wires = <wire where you want to apply the gate>)'\n",
    "    # to use Control-U, call 'qml.ctrl(U, control = <control wire>)(wires = <wire where you want to apply the gate>)'\n",
    "\n",
    "    qml.Hadamard(wires=0)\n",
    "\n",
    "    U(1)\n",
    "    qml.ctrl(U, control=0)(wires=1)\n",
    "\n",
    "    qml.Hadamard(wires=0)\n",
    "\n",
    "    return qml.sample(wires=range(2))\n",
    "\n",
    "def process_output(measurement):\n",
    "    \"\"\"This function processes the output of the circuit to discriminate between gates.\n",
    "\n",
    "    Args:\n",
    "        measurement (numpy.array): Output of the previous circuit a vector of dimension 2.\n",
    "\n",
    "    Returns:\n",
    "        (int): return 2 or 4 depending on the associated RY gate.\n",
    "    \"\"\"\n",
    "    # Put your code here #\n",
    "    if measurement[0] - measurement[1] == 0:\n",
    "        return 4\n",
    "    else:\n",
    "        return 2"
   ]
  },
  {
   "cell_type": "markdown",
   "id": "8dcd562d",
   "metadata": {},
   "source": [
    "These functions are responsible for testing the solution. You will need to run the cell below. ***Do not modify the cell.***"
   ]
  },
  {
   "cell_type": "code",
   "execution_count": 45,
   "id": "078ca4cb",
   "metadata": {},
   "outputs": [],
   "source": [
    "def run(test_case_input: str) -> str:\n",
    "    return None\n",
    "\n",
    "def check(solution_output: str, expected_output: str) -> None:\n",
    "    numbers = 2 * np.random.randint(1, 3, 5000)\n",
    "\n",
    "    def U2(wires):\n",
    "        class op(qml.operation.Operator):\n",
    "            num_wires = 1\n",
    "\n",
    "            def compute_decomposition(self, wires):\n",
    "                raise ValueError(\"You cannot decompose this gate\")\n",
    "\n",
    "            def matrix(self):\n",
    "                return qml.matrix(qml.RY(2 * np.pi / 3, wires=3))\n",
    "\n",
    "        op(wires=wires)\n",
    "        return None\n",
    "\n",
    "    def U4(wires):\n",
    "        class op(qml.operation.Operator):\n",
    "            num_wires = 1\n",
    "\n",
    "            def compute_decomposition(self, wires):\n",
    "                raise ValueError(\"You cannot decompose this gate\")\n",
    "\n",
    "            def matrix(self):\n",
    "                return qml.matrix(qml.RY(4 * np.pi / 3, wires=3))\n",
    "\n",
    "        op(wires=wires)\n",
    "        return None\n",
    "\n",
    "    output = []\n",
    "\n",
    "    for i in numbers:\n",
    "        if i == 2:\n",
    "            U = U2\n",
    "        else:\n",
    "            U = U4\n",
    "        out = circuit(U)\n",
    "        output.append(process_output(out))\n",
    "\n",
    "    assert np.allclose(\n",
    "        output, numbers, rtol=1e-4\n",
    "    ), \"Your circuit does not give the correct output.\""
   ]
  },
  {
   "cell_type": "markdown",
   "id": "3fe458c7",
   "metadata": {},
   "source": [
    "### Test cases\n",
    " Running the cell below will load the test cases. ***Do not modify the cell***.\n",
    " - input: No input\n",
    " \t+ expected output: No output\n",
    " - input: No input\n",
    " \t+ expected output: No output"
   ]
  },
  {
   "cell_type": "code",
   "execution_count": 46,
   "id": "13041028",
   "metadata": {},
   "outputs": [],
   "source": [
    "test_cases = [['No input', 'No output'], ['No input', 'No output']]"
   ]
  },
  {
   "cell_type": "markdown",
   "id": "d9724287",
   "metadata": {},
   "source": [
    "### Solution testing\n",
    " Once you have run every cell above, including the one with your code, the cell below will test your solution. Run the cell. If you are correct for all of the test cases, it means your solutions is correct. Otherwise, you need to double check your work. ***Do not modify the cell below.***"
   ]
  },
  {
   "cell_type": "code",
   "execution_count": 47,
   "id": "22d40c9e",
   "metadata": {},
   "outputs": [
    {
     "name": "stdout",
     "output_type": "stream",
     "text": [
      "Running test case 0 with input 'No input'...\n",
      "Correct!\n",
      "Running test case 1 with input 'No input'...\n",
      "Correct!\n"
     ]
    }
   ],
   "source": [
    "for i, (input_, expected_output) in enumerate(test_cases):\n",
    "    print(f\"Running test case {i} with input '{input_}'...\")\n",
    "\n",
    "    try:\n",
    "        output = run(input_)\n",
    "\n",
    "    except Exception as exc:\n",
    "        print(f\"Runtime Error. {exc}\")\n",
    "\n",
    "    else:\n",
    "        if message := check(output, expected_output):\n",
    "            print(f\"Wrong Answer. Have: '{output}'. Want: '{expected_output}'.\")\n",
    "\n",
    "        else:\n",
    "            print(\"Correct!\")"
   ]
  }
 ],
 "metadata": {
  "kernelspec": {
   "display_name": "quantum",
   "language": "python",
   "name": "python3"
  },
  "language_info": {
   "codemirror_mode": {
    "name": "ipython",
    "version": 3
   },
   "file_extension": ".py",
   "mimetype": "text/x-python",
   "name": "python",
   "nbconvert_exporter": "python",
   "pygments_lexer": "ipython3",
   "version": "3.9.12"
  }
 },
 "nbformat": 4,
 "nbformat_minor": 5
}
